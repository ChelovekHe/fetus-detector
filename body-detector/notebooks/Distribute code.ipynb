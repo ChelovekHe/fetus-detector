{
 "metadata": {
  "name": "",
  "signature": "sha256:664155bdc828c5c6a93dbd2b7a650a98c9961886488b75fdb813aab9791c326a"
 },
 "nbformat": 3,
 "nbformat_minor": 0,
 "worksheets": [
  {
   "cells": [
    {
     "cell_type": "code",
     "collapsed": false,
     "input": [
      "# ipcontroller --ip=* --location=biomedia11.doc.ic.ac.uk\n",
      "from IPython.parallel import Client\n",
      "c = Client()\n",
      "#v = c[:]\n",
      "v = c.load_balanced_view()\n",
      "print \"Registered engines:\", len(v)"
     ],
     "language": "python",
     "metadata": {},
     "outputs": [
      {
       "output_type": "stream",
       "stream": "stdout",
       "text": [
        "Registered engines: 98\n"
       ]
      }
     ],
     "prompt_number": 19
    },
    {
     "cell_type": "code",
     "collapsed": false,
     "input": [
      "#!/usr/bin/python\n",
      "\n",
      "import os\n",
      "import sys\n",
      "from glob import glob\n",
      "import irtk\n",
      "\n",
      "landmark_folder = \"/vol/vipdata/data/fetal_data/motion_correction/landmarks/\"\n",
      "nii_folder = \"/vol/vipdata/data/fetal_data/motion_correction/original_scans/\"\n",
      "output_folder = \"/vol/vipdata/data/fetal_data/OUTPUT/whole_body_shape_padding50\"\n",
      "\n",
      "all_files = sorted(glob(landmark_folder+'/*_landmarks.nii.gz'))\n",
      "\n",
      "all_cmd = []\n",
      "for f in all_files:\n",
      "    file_id = os.path.basename(f)[:-len('_landmarks.nii.gz')]\n",
      "    filename = nii_folder + \"/\" + file_id + \".nii\"\n",
      "    \n",
      "    header = irtk.imread( filename, \n",
      "                          empty=True, \n",
      "                          force_neurological=False ).get_header()\n",
      "    if header['pixelSize'][2] > 2.0*header['pixelSize'][0]:\n",
      "        print \"Thick slices:\", os.path.basename(f), header['pixelSize']\n",
      "        continue\n",
      "    \n",
      "    if os.path.exists( output_folder+'/'+file_id+'/prediction_2/final_seg.nii.gz' ):\n",
      "        print \"job already done:\", file_id\n",
      "        continue\n",
      "    \n",
      "    cmd = [ \"python\", \"detect_all.py\", filename ] \n",
      "    all_cmd.append(cmd)\n",
      "    \n",
      "print \"remaining jobs:\", len(all_cmd)\n",
      "sys.stdout.flush()\n",
      "\n",
      "# early exit\n",
      "#() + 1\n",
      "    \n",
      "def f(cmd):\n",
      "    import os, subprocess\n",
      "    os.chdir(\"/vol/medic02/users/kpk09/gitlab/fetus-detector/body-detector\")\n",
      "    proc = subprocess.Popen( cmd,\n",
      "                             stdout=subprocess.PIPE,\n",
      "                             stderr=subprocess.PIPE )\n",
      "    (out, err) = proc.communicate()\n",
      "    return out, err\n",
      "    \n",
      "res = v.map( f, all_cmd, block=True )\n",
      "\n",
      "for out, err in res:\n",
      "    print \"STDOUT:\", out\n",
      "    print \"STDERR:\", err\n",
      "    print \"\""
     ],
     "language": "python",
     "metadata": {},
     "outputs": [
      {
       "output_type": "stream",
       "stream": "stdout",
       "text": [
        "job already done: 1130_1\n",
        "job already done:"
       ]
      },
      {
       "output_type": "stream",
       "stream": "stdout",
       "text": [
        " 1130_2\n",
        "job already done:"
       ]
      },
      {
       "output_type": "stream",
       "stream": "stdout",
       "text": [
        " 1130_3\n",
        "job already done:"
       ]
      },
      {
       "output_type": "stream",
       "stream": "stdout",
       "text": [
        " 1130_4\n",
        "job already done:"
       ]
      },
      {
       "output_type": "stream",
       "stream": "stdout",
       "text": [
        " 1142_6\n",
        "job already done:"
       ]
      },
      {
       "output_type": "stream",
       "stream": "stdout",
       "text": [
        " 1347_1\n",
        "job already done:"
       ]
      },
      {
       "output_type": "stream",
       "stream": "stdout",
       "text": [
        " 1347_2\n",
        "job already done:"
       ]
      },
      {
       "output_type": "stream",
       "stream": "stdout",
       "text": [
        " 1347_3\n",
        "job already done:"
       ]
      },
      {
       "output_type": "stream",
       "stream": "stdout",
       "text": [
        " 1347_4\n",
        "job already done:"
       ]
      },
      {
       "output_type": "stream",
       "stream": "stdout",
       "text": [
        " 1351_1\n",
        "job already done:"
       ]
      },
      {
       "output_type": "stream",
       "stream": "stdout",
       "text": [
        " 1351_2\n",
        "job already done:"
       ]
      },
      {
       "output_type": "stream",
       "stream": "stdout",
       "text": [
        " 1351_7\n",
        "job already done:"
       ]
      },
      {
       "output_type": "stream",
       "stream": "stdout",
       "text": [
        " 1351_8\n",
        "Thick slices:"
       ]
      },
      {
       "output_type": "stream",
       "stream": "stdout",
       "text": [
        " 1671_1_landmarks.nii.gz [ 0.671875  0.671875  4.        1.      ]\n",
        "job already done:"
       ]
      },
      {
       "output_type": "stream",
       "stream": "stdout",
       "text": [
        " 1861_1\n",
        "job already done:"
       ]
      },
      {
       "output_type": "stream",
       "stream": "stdout",
       "text": [
        " 1861_2\n",
        "job already done:"
       ]
      },
      {
       "output_type": "stream",
       "stream": "stdout",
       "text": [
        " 1861_3\n",
        "job already done:"
       ]
      },
      {
       "output_type": "stream",
       "stream": "stdout",
       "text": [
        " 1861_4\n",
        "job already done:"
       ]
      },
      {
       "output_type": "stream",
       "stream": "stdout",
       "text": [
        " 1887_1\n",
        "job already done:"
       ]
      },
      {
       "output_type": "stream",
       "stream": "stdout",
       "text": [
        " 1887_2\n",
        "job already done:"
       ]
      },
      {
       "output_type": "stream",
       "stream": "stdout",
       "text": [
        " 1887_7\n",
        "job already done:"
       ]
      },
      {
       "output_type": "stream",
       "stream": "stdout",
       "text": [
        " 1887_8\n",
        "job already done:"
       ]
      },
      {
       "output_type": "stream",
       "stream": "stdout",
       "text": [
        " 1934_1\n",
        "job already done:"
       ]
      },
      {
       "output_type": "stream",
       "stream": "stdout",
       "text": [
        " 1934_2\n",
        "job already done:"
       ]
      },
      {
       "output_type": "stream",
       "stream": "stdout",
       "text": [
        " 1934_3\n",
        "job already done:"
       ]
      },
      {
       "output_type": "stream",
       "stream": "stdout",
       "text": [
        " 1934_4\n",
        "job already done:"
       ]
      },
      {
       "output_type": "stream",
       "stream": "stdout",
       "text": [
        " 1953_1\n",
        "job already done:"
       ]
      },
      {
       "output_type": "stream",
       "stream": "stdout",
       "text": [
        " 1953_2\n",
        "job already done:"
       ]
      },
      {
       "output_type": "stream",
       "stream": "stdout",
       "text": [
        " 1953_3\n",
        "job already done:"
       ]
      },
      {
       "output_type": "stream",
       "stream": "stdout",
       "text": [
        " 1953_4\n",
        "job already done:"
       ]
      },
      {
       "output_type": "stream",
       "stream": "stdout",
       "text": [
        " 1973_10\n",
        "job already done:"
       ]
      },
      {
       "output_type": "stream",
       "stream": "stdout",
       "text": [
        " 1973_11\n",
        "job already done:"
       ]
      },
      {
       "output_type": "stream",
       "stream": "stdout",
       "text": [
        " 1973_1\n",
        "job already done:"
       ]
      },
      {
       "output_type": "stream",
       "stream": "stdout",
       "text": [
        " 1973_2\n",
        "job already done:"
       ]
      },
      {
       "output_type": "stream",
       "stream": "stdout",
       "text": [
        " 1973_7\n",
        "job already done:"
       ]
      },
      {
       "output_type": "stream",
       "stream": "stdout",
       "text": [
        " 1973_8\n",
        "job already done:"
       ]
      },
      {
       "output_type": "stream",
       "stream": "stdout",
       "text": [
        " 1973_9\n",
        "job already done:"
       ]
      },
      {
       "output_type": "stream",
       "stream": "stdout",
       "text": [
        " 1975_1\n",
        "job already done:"
       ]
      },
      {
       "output_type": "stream",
       "stream": "stdout",
       "text": [
        " 1975_2\n",
        "job already done:"
       ]
      },
      {
       "output_type": "stream",
       "stream": "stdout",
       "text": [
        " 1975_3\n",
        "job already done:"
       ]
      },
      {
       "output_type": "stream",
       "stream": "stdout",
       "text": [
        " 1975_4\n",
        "job already done:"
       ]
      },
      {
       "output_type": "stream",
       "stream": "stdout",
       "text": [
        " 1999_1\n",
        "job already done:"
       ]
      },
      {
       "output_type": "stream",
       "stream": "stdout",
       "text": [
        " 1999_2\n",
        "job already done:"
       ]
      },
      {
       "output_type": "stream",
       "stream": "stdout",
       "text": [
        " 2116_3\n",
        "job already done:"
       ]
      },
      {
       "output_type": "stream",
       "stream": "stdout",
       "text": [
        " 2116_4\n",
        "job already done:"
       ]
      },
      {
       "output_type": "stream",
       "stream": "stdout",
       "text": [
        " 2141_1\n",
        "job already done:"
       ]
      },
      {
       "output_type": "stream",
       "stream": "stdout",
       "text": [
        " 2141_2\n",
        "job already done:"
       ]
      },
      {
       "output_type": "stream",
       "stream": "stdout",
       "text": [
        " 2141_3\n",
        "job already done:"
       ]
      },
      {
       "output_type": "stream",
       "stream": "stdout",
       "text": [
        " 2141_4\n",
        "job already done:"
       ]
      },
      {
       "output_type": "stream",
       "stream": "stdout",
       "text": [
        " 2154_1\n",
        "job already done:"
       ]
      },
      {
       "output_type": "stream",
       "stream": "stdout",
       "text": [
        " 2154_2\n",
        "job already done:"
       ]
      },
      {
       "output_type": "stream",
       "stream": "stdout",
       "text": [
        " 2154_7\n",
        "job already done:"
       ]
      },
      {
       "output_type": "stream",
       "stream": "stdout",
       "text": [
        " 2154_8\n",
        "job already done:"
       ]
      },
      {
       "output_type": "stream",
       "stream": "stdout",
       "text": [
        " 2200_6\n",
        "job already done:"
       ]
      },
      {
       "output_type": "stream",
       "stream": "stdout",
       "text": [
        " 2206_1\n",
        "job already done:"
       ]
      },
      {
       "output_type": "stream",
       "stream": "stdout",
       "text": [
        " 2206_2\n",
        "job already done:"
       ]
      },
      {
       "output_type": "stream",
       "stream": "stdout",
       "text": [
        " 2283_1\n",
        "job already done:"
       ]
      },
      {
       "output_type": "stream",
       "stream": "stdout",
       "text": [
        " 2283_2\n",
        "job already done:"
       ]
      },
      {
       "output_type": "stream",
       "stream": "stdout",
       "text": [
        " 2284_3\n",
        "job already done:"
       ]
      },
      {
       "output_type": "stream",
       "stream": "stdout",
       "text": [
        " 2284_4\n",
        "job already done:"
       ]
      },
      {
       "output_type": "stream",
       "stream": "stdout",
       "text": [
        " 2312_7\n",
        "job already done:"
       ]
      },
      {
       "output_type": "stream",
       "stream": "stdout",
       "text": [
        " 2312_8\n",
        "job already done:"
       ]
      },
      {
       "output_type": "stream",
       "stream": "stdout",
       "text": [
        " 2324_5\n",
        "job already done:"
       ]
      },
      {
       "output_type": "stream",
       "stream": "stdout",
       "text": [
        " 2324_6\n",
        "job already done:"
       ]
      },
      {
       "output_type": "stream",
       "stream": "stdout",
       "text": [
        " 2324_7\n",
        "job already done:"
       ]
      },
      {
       "output_type": "stream",
       "stream": "stdout",
       "text": [
        " 2324_8\n",
        "Thick slices:"
       ]
      },
      {
       "output_type": "stream",
       "stream": "stdout",
       "text": [
        " 2339_12_landmarks.nii.gz [ 0.83984375  0.83984375  4.38518524  1.        ]\n",
        "job already done:"
       ]
      },
      {
       "output_type": "stream",
       "stream": "stdout",
       "text": [
        " 2339_1\n",
        "job already done:"
       ]
      },
      {
       "output_type": "stream",
       "stream": "stdout",
       "text": [
        " 2339_2\n",
        "job already done:"
       ]
      },
      {
       "output_type": "stream",
       "stream": "stdout",
       "text": [
        " 2339_3\n",
        "job already done:"
       ]
      },
      {
       "output_type": "stream",
       "stream": "stdout",
       "text": [
        " 2339_4\n",
        "Thick slices:"
       ]
      },
      {
       "output_type": "stream",
       "stream": "stdout",
       "text": [
        " 2339_5_landmarks.nii.gz [ 0.83984375  0.83984375  4.          1.        ]\n",
        "Thick slices:"
       ]
      },
      {
       "output_type": "stream",
       "stream": "stdout",
       "text": [
        " 2339_7_landmarks.nii.gz [ 0.83984375  0.83984375  4.38260889  1.        ]\n",
        "job already done:"
       ]
      },
      {
       "output_type": "stream",
       "stream": "stdout",
       "text": [
        " 2351_5\n",
        "job already done:"
       ]
      },
      {
       "output_type": "stream",
       "stream": "stdout",
       "text": [
        " 2351_6\n",
        "Thick slices:"
       ]
      },
      {
       "output_type": "stream",
       "stream": "stdout",
       "text": [
        " 2351_7_landmarks.nii.gz [ 0.83984375  0.83984375  4.          1.        ]\n",
        "job already done:"
       ]
      },
      {
       "output_type": "stream",
       "stream": "stdout",
       "text": [
        " 2365_1\n",
        "job already done:"
       ]
      },
      {
       "output_type": "stream",
       "stream": "stdout",
       "text": [
        " 2365_2\n",
        "job already done:"
       ]
      },
      {
       "output_type": "stream",
       "stream": "stdout",
       "text": [
        " 2381_1\n",
        "job already done:"
       ]
      },
      {
       "output_type": "stream",
       "stream": "stdout",
       "text": [
        " 2381_2\n",
        "Thick slices:"
       ]
      },
      {
       "output_type": "stream",
       "stream": "stdout",
       "text": [
        " 2493_3_landmarks.nii.gz [ 0.83984375  0.83984375  4.          1.        ]\n",
        "job already done:"
       ]
      },
      {
       "output_type": "stream",
       "stream": "stdout",
       "text": [
        " 2493_4\n",
        "job already done:"
       ]
      },
      {
       "output_type": "stream",
       "stream": "stdout",
       "text": [
        " 2493_5\n",
        "job already done:"
       ]
      },
      {
       "output_type": "stream",
       "stream": "stdout",
       "text": [
        " 2493_6\n",
        "job already done:"
       ]
      },
      {
       "output_type": "stream",
       "stream": "stdout",
       "text": [
        " 2493_7\n",
        "Thick slices:"
       ]
      },
      {
       "output_type": "stream",
       "stream": "stdout",
       "text": [
        " 2493_8_landmarks.nii.gz [ 0.83984375  0.83984375  4.          1.        ]\n",
        "job already done:"
       ]
      },
      {
       "output_type": "stream",
       "stream": "stdout",
       "text": [
        " 2507_5\n",
        "job already done:"
       ]
      },
      {
       "output_type": "stream",
       "stream": "stdout",
       "text": [
        " 2507_6\n",
        "job already done:"
       ]
      },
      {
       "output_type": "stream",
       "stream": "stdout",
       "text": [
        " 2507_7\n",
        "job already done:"
       ]
      },
      {
       "output_type": "stream",
       "stream": "stdout",
       "text": [
        " 2507_8\n",
        "job already done:"
       ]
      },
      {
       "output_type": "stream",
       "stream": "stdout",
       "text": [
        " 2508_1\n",
        "job already done:"
       ]
      },
      {
       "output_type": "stream",
       "stream": "stdout",
       "text": [
        " 2508_2\n",
        "Thick slices:"
       ]
      },
      {
       "output_type": "stream",
       "stream": "stdout",
       "text": [
        " 2508_3_landmarks.nii.gz [ 0.83984375  0.83984375  4.          1.        ]\n",
        "job already done:"
       ]
      },
      {
       "output_type": "stream",
       "stream": "stdout",
       "text": [
        " 2508_8\n",
        "job already done:"
       ]
      },
      {
       "output_type": "stream",
       "stream": "stdout",
       "text": [
        " 2508_9\n",
        "job already done:"
       ]
      },
      {
       "output_type": "stream",
       "stream": "stdout",
       "text": [
        " 2589_1\n",
        "job already done:"
       ]
      },
      {
       "output_type": "stream",
       "stream": "stdout",
       "text": [
        " 2589_2\n",
        "job already done:"
       ]
      },
      {
       "output_type": "stream",
       "stream": "stdout",
       "text": [
        " 2589_3\n",
        "job already done:"
       ]
      },
      {
       "output_type": "stream",
       "stream": "stdout",
       "text": [
        " 2589_4\n",
        "job already done:"
       ]
      },
      {
       "output_type": "stream",
       "stream": "stdout",
       "text": [
        " 2629_1\n",
        "job already done:"
       ]
      },
      {
       "output_type": "stream",
       "stream": "stdout",
       "text": [
        " 2629_2\n",
        "job already done:"
       ]
      },
      {
       "output_type": "stream",
       "stream": "stdout",
       "text": [
        " 2629_3\n",
        "job already done:"
       ]
      },
      {
       "output_type": "stream",
       "stream": "stdout",
       "text": [
        " 2629_4\n",
        "job already done:"
       ]
      },
      {
       "output_type": "stream",
       "stream": "stdout",
       "text": [
        " 2678_1\n",
        "job already done:"
       ]
      },
      {
       "output_type": "stream",
       "stream": "stdout",
       "text": [
        " 2678_2\n",
        "job already done:"
       ]
      },
      {
       "output_type": "stream",
       "stream": "stdout",
       "text": [
        " 2716_5\n",
        "job already done:"
       ]
      },
      {
       "output_type": "stream",
       "stream": "stdout",
       "text": [
        " 2716_6\n",
        "job already done:"
       ]
      },
      {
       "output_type": "stream",
       "stream": "stdout",
       "text": [
        " 2716_7\n",
        "job already done:"
       ]
      },
      {
       "output_type": "stream",
       "stream": "stdout",
       "text": [
        " 2716_8\n",
        "job already done:"
       ]
      },
      {
       "output_type": "stream",
       "stream": "stdout",
       "text": [
        " 2822_1\n",
        "job already done:"
       ]
      },
      {
       "output_type": "stream",
       "stream": "stdout",
       "text": [
        " 2822_2\n",
        "job already done:"
       ]
      },
      {
       "output_type": "stream",
       "stream": "stdout",
       "text": [
        " 2822_3\n",
        "job already done:"
       ]
      },
      {
       "output_type": "stream",
       "stream": "stdout",
       "text": [
        " 2822_4\n",
        "job already done:"
       ]
      },
      {
       "output_type": "stream",
       "stream": "stdout",
       "text": [
        " 2838_3\n",
        "job already done:"
       ]
      },
      {
       "output_type": "stream",
       "stream": "stdout",
       "text": [
        " 2838_4\n",
        "job already done:"
       ]
      },
      {
       "output_type": "stream",
       "stream": "stdout",
       "text": [
        " 2868_3\n",
        "job already done:"
       ]
      },
      {
       "output_type": "stream",
       "stream": "stdout",
       "text": [
        " 2868_4\n",
        "job already done:"
       ]
      },
      {
       "output_type": "stream",
       "stream": "stdout",
       "text": [
        " 2887_1\n",
        "job already done:"
       ]
      },
      {
       "output_type": "stream",
       "stream": "stdout",
       "text": [
        " 2887_2\n",
        "job already done:"
       ]
      },
      {
       "output_type": "stream",
       "stream": "stdout",
       "text": [
        " 2982_1\n",
        "job already done:"
       ]
      },
      {
       "output_type": "stream",
       "stream": "stdout",
       "text": [
        " 2982_2\n",
        "job already done:"
       ]
      },
      {
       "output_type": "stream",
       "stream": "stdout",
       "text": [
        " 2982_3\n",
        "job already done:"
       ]
      },
      {
       "output_type": "stream",
       "stream": "stdout",
       "text": [
        " 2982_4\n",
        "job already done:"
       ]
      },
      {
       "output_type": "stream",
       "stream": "stdout",
       "text": [
        " 3015_1\n",
        "job already done:"
       ]
      },
      {
       "output_type": "stream",
       "stream": "stdout",
       "text": [
        " 3015_2\n",
        "job already done:"
       ]
      },
      {
       "output_type": "stream",
       "stream": "stdout",
       "text": [
        " 3015_3\n",
        "job already done:"
       ]
      },
      {
       "output_type": "stream",
       "stream": "stdout",
       "text": [
        " 3015_4\n",
        "job already done:"
       ]
      },
      {
       "output_type": "stream",
       "stream": "stdout",
       "text": [
        " 3015_5\n",
        "job already done:"
       ]
      },
      {
       "output_type": "stream",
       "stream": "stdout",
       "text": [
        " 3015_6\n",
        "job already done:"
       ]
      },
      {
       "output_type": "stream",
       "stream": "stdout",
       "text": [
        " 3015_7\n",
        "job already done:"
       ]
      },
      {
       "output_type": "stream",
       "stream": "stdout",
       "text": [
        " 3015_8\n",
        "job already done:"
       ]
      },
      {
       "output_type": "stream",
       "stream": "stdout",
       "text": [
        " 3042_1\n",
        "job already done:"
       ]
      },
      {
       "output_type": "stream",
       "stream": "stdout",
       "text": [
        " 3042_2\n",
        "job already done:"
       ]
      },
      {
       "output_type": "stream",
       "stream": "stdout",
       "text": [
        " 3042_3\n",
        "job already done:"
       ]
      },
      {
       "output_type": "stream",
       "stream": "stdout",
       "text": [
        " 3042_4\n",
        "job already done:"
       ]
      },
      {
       "output_type": "stream",
       "stream": "stdout",
       "text": [
        " 3078_1\n",
        "job already done:"
       ]
      },
      {
       "output_type": "stream",
       "stream": "stdout",
       "text": [
        " 3078_2\n",
        "job already done:"
       ]
      },
      {
       "output_type": "stream",
       "stream": "stdout",
       "text": [
        " 3078_3\n",
        "job already done:"
       ]
      },
      {
       "output_type": "stream",
       "stream": "stdout",
       "text": [
        " 3078_4\n",
        "job already done:"
       ]
      },
      {
       "output_type": "stream",
       "stream": "stdout",
       "text": [
        " 3115_1\n",
        "job already done:"
       ]
      },
      {
       "output_type": "stream",
       "stream": "stdout",
       "text": [
        " 3115_2\n",
        "job already done:"
       ]
      },
      {
       "output_type": "stream",
       "stream": "stdout",
       "text": [
        " 3115_3\n",
        "job already done:"
       ]
      },
      {
       "output_type": "stream",
       "stream": "stdout",
       "text": [
        " 3115_4\n",
        "job already done:"
       ]
      },
      {
       "output_type": "stream",
       "stream": "stdout",
       "text": [
        " 3176_1\n",
        "job already done:"
       ]
      },
      {
       "output_type": "stream",
       "stream": "stdout",
       "text": [
        " 3176_2\n",
        "job already done:"
       ]
      },
      {
       "output_type": "stream",
       "stream": "stdout",
       "text": [
        " 3381_1\n",
        "job already done:"
       ]
      },
      {
       "output_type": "stream",
       "stream": "stdout",
       "text": [
        " 3381_2\n",
        "job already done:"
       ]
      },
      {
       "output_type": "stream",
       "stream": "stdout",
       "text": [
        " 3381_3\n",
        "job already done:"
       ]
      },
      {
       "output_type": "stream",
       "stream": "stdout",
       "text": [
        " 3381_4\n",
        "job already done:"
       ]
      },
      {
       "output_type": "stream",
       "stream": "stdout",
       "text": [
        " 3382_1\n",
        "job already done:"
       ]
      },
      {
       "output_type": "stream",
       "stream": "stdout",
       "text": [
        " 3382_2\n",
        "job already done:"
       ]
      },
      {
       "output_type": "stream",
       "stream": "stdout",
       "text": [
        " 3382_5\n",
        "job already done:"
       ]
      },
      {
       "output_type": "stream",
       "stream": "stdout",
       "text": [
        " 3382_6\n",
        "job already done:"
       ]
      },
      {
       "output_type": "stream",
       "stream": "stdout",
       "text": [
        " 3435_1\n",
        "job already done:"
       ]
      },
      {
       "output_type": "stream",
       "stream": "stdout",
       "text": [
        " 3435_2\n",
        "job already done:"
       ]
      },
      {
       "output_type": "stream",
       "stream": "stdout",
       "text": [
        " 3435_3\n",
        "job already done:"
       ]
      },
      {
       "output_type": "stream",
       "stream": "stdout",
       "text": [
        " 3435_4\n",
        "job already done:"
       ]
      },
      {
       "output_type": "stream",
       "stream": "stdout",
       "text": [
        " 3463_1\n",
        "job already done:"
       ]
      },
      {
       "output_type": "stream",
       "stream": "stdout",
       "text": [
        " 3463_2\n",
        "job already done:"
       ]
      },
      {
       "output_type": "stream",
       "stream": "stdout",
       "text": [
        " 3463_3\n",
        "job already done:"
       ]
      },
      {
       "output_type": "stream",
       "stream": "stdout",
       "text": [
        " 3463_4\n",
        "job already done:"
       ]
      },
      {
       "output_type": "stream",
       "stream": "stdout",
       "text": [
        " 3467_1\n",
        "job already done:"
       ]
      },
      {
       "output_type": "stream",
       "stream": "stdout",
       "text": [
        " 3467_2\n",
        "job already done:"
       ]
      },
      {
       "output_type": "stream",
       "stream": "stdout",
       "text": [
        " 3467_3\n",
        "job already done:"
       ]
      },
      {
       "output_type": "stream",
       "stream": "stdout",
       "text": [
        " 3467_4\n",
        "job already done:"
       ]
      },
      {
       "output_type": "stream",
       "stream": "stdout",
       "text": [
        " 3502_1\n",
        "job already done:"
       ]
      },
      {
       "output_type": "stream",
       "stream": "stdout",
       "text": [
        " 3502_2\n",
        "job already done:"
       ]
      },
      {
       "output_type": "stream",
       "stream": "stdout",
       "text": [
        " 3537_3\n",
        "job already done:"
       ]
      },
      {
       "output_type": "stream",
       "stream": "stdout",
       "text": [
        " 3537_4\n",
        "job already done:"
       ]
      },
      {
       "output_type": "stream",
       "stream": "stdout",
       "text": [
        " 3599_1\n",
        "job already done:"
       ]
      },
      {
       "output_type": "stream",
       "stream": "stdout",
       "text": [
        " 3599_2\n",
        "job already done:"
       ]
      },
      {
       "output_type": "stream",
       "stream": "stdout",
       "text": [
        " 3599_3\n",
        "job already done:"
       ]
      },
      {
       "output_type": "stream",
       "stream": "stdout",
       "text": [
        " 3599_4\n",
        "job already done:"
       ]
      },
      {
       "output_type": "stream",
       "stream": "stdout",
       "text": [
        " 3600_1\n",
        "job already done:"
       ]
      },
      {
       "output_type": "stream",
       "stream": "stdout",
       "text": [
        " 3600_2\n",
        "job already done:"
       ]
      },
      {
       "output_type": "stream",
       "stream": "stdout",
       "text": [
        " 3600_3\n",
        "job already done:"
       ]
      },
      {
       "output_type": "stream",
       "stream": "stdout",
       "text": [
        " 3600_4\n",
        "job already done:"
       ]
      },
      {
       "output_type": "stream",
       "stream": "stdout",
       "text": [
        " 3737_3\n",
        "job already done:"
       ]
      },
      {
       "output_type": "stream",
       "stream": "stdout",
       "text": [
        " 3737_4\n",
        "job already done:"
       ]
      },
      {
       "output_type": "stream",
       "stream": "stdout",
       "text": [
        " 3829_1\n",
        "job already done:"
       ]
      },
      {
       "output_type": "stream",
       "stream": "stdout",
       "text": [
        " 3829_2\n",
        "job already done:"
       ]
      },
      {
       "output_type": "stream",
       "stream": "stdout",
       "text": [
        " 3829_3\n",
        "job already done:"
       ]
      },
      {
       "output_type": "stream",
       "stream": "stdout",
       "text": [
        " 3829_4\n",
        "job already done:"
       ]
      },
      {
       "output_type": "stream",
       "stream": "stdout",
       "text": [
        " 3852_1\n",
        "job already done:"
       ]
      },
      {
       "output_type": "stream",
       "stream": "stdout",
       "text": [
        " 3852_2\n",
        "job already done:"
       ]
      },
      {
       "output_type": "stream",
       "stream": "stdout",
       "text": [
        " 3853_1\n",
        "job already done:"
       ]
      },
      {
       "output_type": "stream",
       "stream": "stdout",
       "text": [
        " 3853_2\n",
        "job already done:"
       ]
      },
      {
       "output_type": "stream",
       "stream": "stdout",
       "text": [
        " 3853_3\n",
        "job already done:"
       ]
      },
      {
       "output_type": "stream",
       "stream": "stdout",
       "text": [
        " 3853_4\n",
        "job already done:"
       ]
      },
      {
       "output_type": "stream",
       "stream": "stdout",
       "text": [
        " 3879_1\n",
        "job already done:"
       ]
      },
      {
       "output_type": "stream",
       "stream": "stdout",
       "text": [
        " 3879_2\n",
        "job already done:"
       ]
      },
      {
       "output_type": "stream",
       "stream": "stdout",
       "text": [
        " 3995_1\n",
        "job already done:"
       ]
      },
      {
       "output_type": "stream",
       "stream": "stdout",
       "text": [
        " 3995_2\n",
        "job already done:"
       ]
      },
      {
       "output_type": "stream",
       "stream": "stdout",
       "text": [
        " 3995_3\n",
        "job already done:"
       ]
      },
      {
       "output_type": "stream",
       "stream": "stdout",
       "text": [
        " 3995_4\n",
        "job already done:"
       ]
      },
      {
       "output_type": "stream",
       "stream": "stdout",
       "text": [
        " 4034_1\n",
        "job already done:"
       ]
      },
      {
       "output_type": "stream",
       "stream": "stdout",
       "text": [
        " 4034_2\n",
        "job already done:"
       ]
      },
      {
       "output_type": "stream",
       "stream": "stdout",
       "text": [
        " 4078_1\n",
        "job already done:"
       ]
      },
      {
       "output_type": "stream",
       "stream": "stdout",
       "text": [
        " 4078_2\n",
        "job already done:"
       ]
      },
      {
       "output_type": "stream",
       "stream": "stdout",
       "text": [
        " 4078_3\n",
        "job already done:"
       ]
      },
      {
       "output_type": "stream",
       "stream": "stdout",
       "text": [
        " 5066_1\n",
        "job already done:"
       ]
      },
      {
       "output_type": "stream",
       "stream": "stdout",
       "text": [
        " 5066_2\n",
        "job already done:"
       ]
      },
      {
       "output_type": "stream",
       "stream": "stdout",
       "text": [
        " 5066_3\n",
        "job already done:"
       ]
      },
      {
       "output_type": "stream",
       "stream": "stdout",
       "text": [
        " 5066_4\n",
        "job already done:"
       ]
      },
      {
       "output_type": "stream",
       "stream": "stdout",
       "text": [
        " 5172_1\n",
        "job already done:"
       ]
      },
      {
       "output_type": "stream",
       "stream": "stdout",
       "text": [
        " 5172_2\n",
        "job already done:"
       ]
      },
      {
       "output_type": "stream",
       "stream": "stdout",
       "text": [
        " 5172_3\n",
        "job already done:"
       ]
      },
      {
       "output_type": "stream",
       "stream": "stdout",
       "text": [
        " 5172_4\n",
        "Thick slices:"
       ]
      },
      {
       "output_type": "stream",
       "stream": "stdout",
       "text": [
        " 821_11_landmarks.nii.gz [ 0.83984375  0.83984375  4.38000011  1.        ]\n",
        "Thick slices:"
       ]
      },
      {
       "output_type": "stream",
       "stream": "stdout",
       "text": [
        " 821_14_landmarks.nii.gz [ 0.83984375  0.83984375  4.38000011  1.        ]\n",
        "Thick slices:"
       ]
      },
      {
       "output_type": "stream",
       "stream": "stdout",
       "text": [
        " 821_1_landmarks.nii.gz [ 0.83984375  0.83984375  4.38000011  1.        ]\n",
        "job already done:"
       ]
      },
      {
       "output_type": "stream",
       "stream": "stdout",
       "text": [
        " 821_2\n",
        "job already done:"
       ]
      },
      {
       "output_type": "stream",
       "stream": "stdout",
       "text": [
        " 821_3\n",
        "job already done:"
       ]
      },
      {
       "output_type": "stream",
       "stream": "stdout",
       "text": [
        " 821_4\n",
        "job already done:"
       ]
      },
      {
       "output_type": "stream",
       "stream": "stdout",
       "text": [
        " 821_5\n",
        "job already done:"
       ]
      },
      {
       "output_type": "stream",
       "stream": "stdout",
       "text": [
        " 821_6\n",
        "job already done:"
       ]
      },
      {
       "output_type": "stream",
       "stream": "stdout",
       "text": [
        " 821_7\n",
        "job already done:"
       ]
      },
      {
       "output_type": "stream",
       "stream": "stdout",
       "text": [
        " 890_7\n",
        "job already done:"
       ]
      },
      {
       "output_type": "stream",
       "stream": "stdout",
       "text": [
        " 890_8\n",
        "job already done:"
       ]
      },
      {
       "output_type": "stream",
       "stream": "stdout",
       "text": [
        " 964_10\n",
        "job already done:"
       ]
      },
      {
       "output_type": "stream",
       "stream": "stdout",
       "text": [
        " 964_11\n",
        "job already done:"
       ]
      },
      {
       "output_type": "stream",
       "stream": "stdout",
       "text": [
        " 964_12\n",
        "job already done:"
       ]
      },
      {
       "output_type": "stream",
       "stream": "stdout",
       "text": [
        " 964_13\n",
        "job already done:"
       ]
      },
      {
       "output_type": "stream",
       "stream": "stdout",
       "text": [
        " 964_14\n",
        "job already done:"
       ]
      },
      {
       "output_type": "stream",
       "stream": "stdout",
       "text": [
        " 964_15\n",
        "job already done:"
       ]
      },
      {
       "output_type": "stream",
       "stream": "stdout",
       "text": [
        " 964_16\n",
        "job already done:"
       ]
      },
      {
       "output_type": "stream",
       "stream": "stdout",
       "text": [
        " 964_17\n",
        "job already done:"
       ]
      },
      {
       "output_type": "stream",
       "stream": "stdout",
       "text": [
        " 964_18\n",
        "job already done:"
       ]
      },
      {
       "output_type": "stream",
       "stream": "stdout",
       "text": [
        " 964_19\n",
        "job already done:"
       ]
      },
      {
       "output_type": "stream",
       "stream": "stdout",
       "text": [
        " 964_20\n",
        "job already done:"
       ]
      },
      {
       "output_type": "stream",
       "stream": "stdout",
       "text": [
        " 964_21\n",
        "job already done:"
       ]
      },
      {
       "output_type": "stream",
       "stream": "stdout",
       "text": [
        " 964_22\n",
        "job already done:"
       ]
      },
      {
       "output_type": "stream",
       "stream": "stdout",
       "text": [
        " 964_23\n",
        "job already done:"
       ]
      },
      {
       "output_type": "stream",
       "stream": "stdout",
       "text": [
        " 964_24\n",
        "job already done:"
       ]
      },
      {
       "output_type": "stream",
       "stream": "stdout",
       "text": [
        " 964_9\n",
        "remaining jobs: 0\n"
       ]
      }
     ],
     "prompt_number": 20
    },
    {
     "cell_type": "code",
     "collapsed": false,
     "input": [
      "import os, subprocess\n",
      "\n",
      "os.chdir(\"/vol/medic02/users/kpk09/gitlab/fetus-detector/body-detector\")\n",
      "\n",
      "cmd = [ \"python\", \n",
      "        \"detect_all.py\", \n",
      "        \"/vol/vipdata/data/fetal_data/motion_correction/original_scans/821_11.nii\" ]\n",
      "\n",
      "proc = subprocess.Popen( cmd,\n",
      "                         stdout=subprocess.PIPE,\n",
      "                         stderr=subprocess.PIPE )\n",
      "(out, err) = proc.communicate()\n",
      "print \"STDOUT:\", out\n",
      "print \"STDERR:\", err"
     ],
     "language": "python",
     "metadata": {},
     "outputs": [
      {
       "output_type": "stream",
       "stream": "stdout",
       "text": [
        "STDOUT: 821\n",
        "python ../brain-detector/fetalMask_detection.py /vol/vipdata/data/fetal_data/motion_correction/original_scans/821_11.nii 24.71 /vol/vipdata/data/fetal_data/OUTPUT/whole_body_shape_padding3/821_11/brain_mask.nii.gz --classifier /vol/medic02/users/kpk09/OUTPUT/brain-detector/model/8/mser_detector_8_LinearSVC --vocabulary /vol/medic02/users/kpk09/OUTPUT/brain-detector/model/8/vocabulary_8.npy\n",
        "Namespace(classifier='/vol/medic02/users/kpk09/OUTPUT/brain-detector/model/8/mser_detector_8_LinearSVC', debug=False, filename='/vol/vipdata/data/fetal_data/motion_correction/original_scans/821_11.nii', fold='0', ga=24.71, output_mask='/vol/vipdata/data/fetal_data/OUTPUT/whole_body_shape_padding3/821_11/brain_mask.nii.gz', vocabulary='/vol/medic02/users/kpk09/OUTPUT/brain-detector/model/8/vocabulary_8.npy')\n",
        "Detect MSER regions\n",
        "Fit box with RANSAC\n",
        "tata\n",
        "RANSAC fiting failed\n",
        "\n",
        "../brain-detector/fetalMask_detection.py:59: UserWarning: This methods proceeds slice-by-slice and has poorer performance on thick slices due to the lower number of slices.\n",
        "  \"slices.\" )\n",
        "\n",
        "\n",
        "STDERR: cifstream::Open: Can't open file /vol/vipdata/data/fetal_data/OUTPUT/whole_body_shape_padding3/821_11/brain_mask.nii.gz\n",
        "Traceback (most recent call last):\n",
        "  File \"detect_all.py\", line 128, in <module>\n",
        "    run_detection( sys.argv[1] )\n",
        "  File \"detect_all.py\", line 85, in run_detection\n",
        "    brain_center = img.WorldToImage( get_center_brain_detection(mask_file) )[::-1]\n",
        "  File \"../commonlib/commonlibdetector.py\", line 6, in get_center_brain_detection\n",
        "    mask = irtk.ones( input_mask.get_header(), dtype='uint8' )\n",
        "AttributeError: 'NoneType' object has no attribute 'get_header'\n",
        "\n"
       ]
      }
     ],
     "prompt_number": 3
    },
    {
     "cell_type": "code",
     "collapsed": false,
     "input": [
      "import irtk\n",
      "\n",
      "all_files = sorted(glob(landmark_folder+'/*_landmarks.nii.gz'))\n",
      "\n",
      "for f in all_files:\n",
      "    header = irtk.imread( f, empty=True, force_neurological=False ).get_header()\n",
      "    if header['pixelSize'][2] > 2.0*header['pixelSize'][0]:\n",
      "        print os.path.basename(f), header['pixelSize']"
     ],
     "language": "python",
     "metadata": {},
     "outputs": [
      {
       "output_type": "stream",
       "stream": "stdout",
       "text": [
        "1671_1_landmarks.nii.gz [ 0.671875  0.671875  4.        1.      ]\n",
        "2339_12_landmarks.nii.gz"
       ]
      },
      {
       "output_type": "stream",
       "stream": "stdout",
       "text": [
        " [ 0.83984375  0.83984375  4.38518524  1.        ]\n",
        "2339_5_landmarks.nii.gz [ 0.83984375  0.83984375  4.          1.        ]\n",
        "2339_7_landmarks.nii.gz [ 0.83984375  0.83984375  4.38260889  1.        ]\n",
        "2351_7_landmarks.nii.gz [ 0.83984375  0.83984375  4.          1.        ]\n",
        "2493_3_landmarks.nii.gz [ 0.83984375  0.83984375  4.          1.        ]\n",
        "2493_8_landmarks.nii.gz [ 0.83984375  0.83984375  4.          1.        ]\n",
        "2508_3_landmarks.nii.gz [ 0.83984375  0.83984375  4.          1.        ]\n",
        "821_11_landmarks.nii.gz"
       ]
      },
      {
       "output_type": "stream",
       "stream": "stdout",
       "text": [
        " [ 0.83984375  0.83984375  4.38000011  1.        ]\n",
        "821_14_landmarks.nii.gz [ 0.83984375  0.83984375  4.38000011  1.        ]\n",
        "821_1_landmarks.nii.gz [ 0.83984375  0.83984375  4.38000011  1.        ]\n"
       ]
      }
     ],
     "prompt_number": 55
    }
   ],
   "metadata": {}
  }
 ]
}